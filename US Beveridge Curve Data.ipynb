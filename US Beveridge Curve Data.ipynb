{
 "cells": [
  {
   "cell_type": "code",
   "execution_count": 1,
   "metadata": {},
   "outputs": [],
   "source": [
    "import quandl\n",
    "import numpy as np\n",
    "import pandas as pd\n",
    "import matplotlib.pyplot as plt\n",
    "import matplotlib.ticker as mtick\n",
    "import matplotlib.ticker as mtick\n",
    "import matplotlib.dates as mdates\n",
    "import pandas_datareader.data as web\n",
    "from datetime import date\n",
    "import scipy"
   ]
  },
  {
   "cell_type": "code",
   "execution_count": 2,
   "metadata": {},
   "outputs": [],
   "source": [
    "quandl.ApiConfig.api_key = \"CTnhpzRXRtpR9w1bU7ae\"\n",
    "\n",
    "ue_rate = quandl.get(\"FRED/UNRATE\", start_date=\"2000-12-01\")\n",
    "job_vacancies = quandl.get(\"FRED/JTSJOR\", start_date=\"2000-12-01\")"
   ]
  },
  {
   "cell_type": "code",
   "execution_count": null,
   "metadata": {},
   "outputs": [],
   "source": [
    "report_start = date.fromisoformat(\"2000-12-01\")\n",
    "report_end = date.today()\n",
    "data = web.get_data_fred([\"UNRATE\", \"JTSJOR\"], report_start, report_end)\n",
    "\n",
    "data[\"UNRATE\"] = data[\"UNRATE\"].apply(lambda x: x / 100)\n",
    "data[\"JTSJOR\"] = data[\"JTSJOR\"].apply(lambda x: x / 100)\n",
    "\n",
    "pd.options.display.float_format = lambda x: (\n",
    "    \"{:.1%}\".format(x) if x < 100 else \"{:.0f}\".format(x)\n",
    ")\n",
    "data.loc['2001':]"
   ]
  }
 ],
 "metadata": {
  "kernelspec": {
   "display_name": "economics",
   "language": "python",
   "name": "python3"
  },
  "language_info": {
   "codemirror_mode": {
    "name": "ipython",
    "version": 3
   },
   "file_extension": ".py",
   "mimetype": "text/x-python",
   "name": "python",
   "nbconvert_exporter": "python",
   "pygments_lexer": "ipython3",
   "version": "3.12.4"
  }
 },
 "nbformat": 4,
 "nbformat_minor": 2
}
